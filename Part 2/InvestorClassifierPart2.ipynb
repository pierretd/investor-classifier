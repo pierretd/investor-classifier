{
  "nbformat": 4,
  "nbformat_minor": 0,
  "metadata": {
    "colab": {
      "name": "InvestorClassifierPart2.ipynb",
      "version": "0.3.2",
      "provenance": []
    },
    "kernelspec": {
      "name": "python3",
      "display_name": "Python 3"
    }
  },
  "cells": [
    {
      "metadata": {
        "id": "fJAD-U9MZp35",
        "colab_type": "code",
        "outputId": "faca1b0b-8c23-4a42-d0a4-766765607fd6",
        "colab": {
          "base_uri": "https://localhost:8080/",
          "height": 374
        }
      },
      "cell_type": "code",
      "source": [
        "import pandas as pd\n",
        "import numpy as np\n",
        "from matplotlib import pyplot as plt\n",
        "import seaborn as sns\n",
        "\n",
        "df = pd.read_excel(\n",
        "    'https://github.com/pierretd/investor-classifier/blob/master/Part%202/investor_data.xlsx?raw=true'\n",
        ")\n",
        "\n",
        "df.sample(5)\n",
        "\n"
      ],
      "execution_count": 0,
      "outputs": [
        {
          "output_type": "execute_result",
          "data": {
            "text/html": [
              "<div>\n",
              "<style scoped>\n",
              "    .dataframe tbody tr th:only-of-type {\n",
              "        vertical-align: middle;\n",
              "    }\n",
              "\n",
              "    .dataframe tbody tr th {\n",
              "        vertical-align: top;\n",
              "    }\n",
              "\n",
              "    .dataframe thead th {\n",
              "        text-align: right;\n",
              "    }\n",
              "</style>\n",
              "<table border=\"1\" class=\"dataframe\">\n",
              "  <thead>\n",
              "    <tr style=\"text-align: right;\">\n",
              "      <th></th>\n",
              "      <th>Unnamed: 0</th>\n",
              "      <th>GET STARTED</th>\n",
              "      <th>Unnamed: 2</th>\n",
              "      <th>Unnamed: 3</th>\n",
              "      <th>Unnamed: 4</th>\n",
              "      <th>Unnamed: 5</th>\n",
              "      <th>Unnamed: 6</th>\n",
              "      <th>Unnamed: 7</th>\n",
              "      <th>NOTE</th>\n",
              "      <th>Unnamed: 9</th>\n",
              "      <th>Unnamed: 10</th>\n",
              "      <th>Unnamed: 11</th>\n",
              "      <th>Unnamed: 12</th>\n",
              "    </tr>\n",
              "  </thead>\n",
              "  <tbody>\n",
              "    <tr>\n",
              "      <th>13</th>\n",
              "      <td>NaN</td>\n",
              "      <td>NaN</td>\n",
              "      <td>NaN</td>\n",
              "      <td>START BALANCE</td>\n",
              "      <td>END BALANCE</td>\n",
              "      <td>NaN</td>\n",
              "      <td>NaN</td>\n",
              "      <td>NaN</td>\n",
              "      <td>Saved this month</td>\n",
              "      <td>NaN</td>\n",
              "      <td>NaN</td>\n",
              "      <td>NaN</td>\n",
              "      <td>NaN</td>\n",
              "    </tr>\n",
              "    <tr>\n",
              "      <th>6</th>\n",
              "      <td>NaN</td>\n",
              "      <td>NaN</td>\n",
              "      <td>NaN</td>\n",
              "      <td>NaN</td>\n",
              "      <td>NaN</td>\n",
              "      <td>NaN</td>\n",
              "      <td>NaN</td>\n",
              "      <td>NaN</td>\n",
              "      <td>NaN</td>\n",
              "      <td>NaN</td>\n",
              "      <td>NaN</td>\n",
              "      <td>NaN</td>\n",
              "      <td>NaN</td>\n",
              "    </tr>\n",
              "    <tr>\n",
              "      <th>34</th>\n",
              "      <td>NaN</td>\n",
              "      <td>Debt</td>\n",
              "      <td>NaN</td>\n",
              "      <td>0</td>\n",
              "      <td>NaN</td>\n",
              "      <td>NaN</td>\n",
              "      <td>NaN</td>\n",
              "      <td>NaN</td>\n",
              "      <td>NaN</td>\n",
              "      <td>NaN</td>\n",
              "      <td>NaN</td>\n",
              "      <td>NaN</td>\n",
              "      <td>NaN</td>\n",
              "    </tr>\n",
              "    <tr>\n",
              "      <th>1</th>\n",
              "      <td>NaN</td>\n",
              "      <td>NaN</td>\n",
              "      <td>NaN</td>\n",
              "      <td>NaN</td>\n",
              "      <td>NaN</td>\n",
              "      <td>NaN</td>\n",
              "      <td>NaN</td>\n",
              "      <td>NaN</td>\n",
              "      <td>Try not to alter cells that contain a formula.</td>\n",
              "      <td>NaN</td>\n",
              "      <td>NaN</td>\n",
              "      <td>NaN</td>\n",
              "      <td>NaN</td>\n",
              "    </tr>\n",
              "    <tr>\n",
              "      <th>14</th>\n",
              "      <td>NaN</td>\n",
              "      <td>NaN</td>\n",
              "      <td>NaN</td>\n",
              "      <td>1000</td>\n",
              "      <td>NaN</td>\n",
              "      <td>NaN</td>\n",
              "      <td>NaN</td>\n",
              "      <td>NaN</td>\n",
              "      <td>NaN</td>\n",
              "      <td>NaN</td>\n",
              "      <td>NaN</td>\n",
              "      <td>NaN</td>\n",
              "      <td>NaN</td>\n",
              "    </tr>\n",
              "  </tbody>\n",
              "</table>\n",
              "</div>"
            ],
            "text/plain": [
              "    Unnamed: 0 GET STARTED  Unnamed: 2      Unnamed: 3    Unnamed: 4  \\\n",
              "13         NaN         NaN         NaN  START BALANCE    END BALANCE   \n",
              "6          NaN         NaN         NaN             NaN           NaN   \n",
              "34         NaN        Debt         NaN               0           NaN   \n",
              "1          NaN         NaN         NaN             NaN           NaN   \n",
              "14         NaN         NaN         NaN            1000           NaN   \n",
              "\n",
              "   Unnamed: 5  Unnamed: 6 Unnamed: 7  \\\n",
              "13        NaN         NaN        NaN   \n",
              "6         NaN         NaN        NaN   \n",
              "34        NaN         NaN        NaN   \n",
              "1         NaN         NaN        NaN   \n",
              "14        NaN         NaN        NaN   \n",
              "\n",
              "                                               NOTE Unnamed: 9 Unnamed: 10  \\\n",
              "13                                 Saved this month        NaN         NaN   \n",
              "6                                               NaN        NaN         NaN   \n",
              "34                                              NaN        NaN         NaN   \n",
              "1   Try not to alter cells that contain a formula.         NaN         NaN   \n",
              "14                                              NaN        NaN         NaN   \n",
              "\n",
              "   Unnamed: 11  Unnamed: 12  \n",
              "13         NaN          NaN  \n",
              "6          NaN          NaN  \n",
              "34         NaN          NaN  \n",
              "1          NaN          NaN  \n",
              "14         NaN          NaN  "
            ]
          },
          "metadata": {
            "tags": []
          },
          "execution_count": 167
        }
      ]
    },
    {
      "metadata": {
        "id": "m1hQT2-ShGlN",
        "colab_type": "code",
        "outputId": "e43d6324-e1e4-4e49-8435-924c546dca61",
        "colab": {
          "base_uri": "https://localhost:8080/",
          "height": 410
        }
      },
      "cell_type": "code",
      "source": [
        "df = pd.read_excel('https://github.com/pierretd/investor-classifier/blob/master/Part%202/investor_data.xlsx?raw=true', sheetname='investor_data')\n",
        "df.sample(5)"
      ],
      "execution_count": 0,
      "outputs": [
        {
          "output_type": "stream",
          "text": [
            "/usr/local/lib/python3.6/dist-packages/pandas/util/_decorators.py:118: FutureWarning: The `sheetname` keyword is deprecated, use `sheet_name` instead\n",
            "  return func(*args, **kwargs)\n"
          ],
          "name": "stderr"
        },
        {
          "output_type": "execute_result",
          "data": {
            "text/html": [
              "<div>\n",
              "<style scoped>\n",
              "    .dataframe tbody tr th:only-of-type {\n",
              "        vertical-align: middle;\n",
              "    }\n",
              "\n",
              "    .dataframe tbody tr th {\n",
              "        vertical-align: top;\n",
              "    }\n",
              "\n",
              "    .dataframe thead th {\n",
              "        text-align: right;\n",
              "    }\n",
              "</style>\n",
              "<table border=\"1\" class=\"dataframe\">\n",
              "  <thead>\n",
              "    <tr style=\"text-align: right;\">\n",
              "      <th></th>\n",
              "      <th>lender</th>\n",
              "      <th>commit</th>\n",
              "      <th>deal_size</th>\n",
              "      <th>invite</th>\n",
              "      <th>rating</th>\n",
              "      <th>int_rate</th>\n",
              "      <th>covenants</th>\n",
              "      <th>total_fees</th>\n",
              "      <th>fee_share</th>\n",
              "      <th>prior_tier</th>\n",
              "      <th>invite_tier</th>\n",
              "    </tr>\n",
              "  </thead>\n",
              "  <tbody>\n",
              "    <tr>\n",
              "      <th>2607</th>\n",
              "      <td>Ipanema Investments</td>\n",
              "      <td>Decline</td>\n",
              "      <td>700.0</td>\n",
              "      <td>100.0</td>\n",
              "      <td>2.0</td>\n",
              "      <td>Below</td>\n",
              "      <td>2.0</td>\n",
              "      <td>41.0</td>\n",
              "      <td>0.9</td>\n",
              "      <td>Bookrunner</td>\n",
              "      <td>Bookrunner</td>\n",
              "    </tr>\n",
              "    <tr>\n",
              "      <th>3361</th>\n",
              "      <td>Damiba Investment Group</td>\n",
              "      <td>Commit</td>\n",
              "      <td>1600.0</td>\n",
              "      <td>220.0</td>\n",
              "      <td>2.0</td>\n",
              "      <td>Market</td>\n",
              "      <td>2.0</td>\n",
              "      <td>149.0</td>\n",
              "      <td>33.5</td>\n",
              "      <td>Bookrunner</td>\n",
              "      <td>Bookrunner</td>\n",
              "    </tr>\n",
              "    <tr>\n",
              "      <th>3302</th>\n",
              "      <td>Damiba Investment Group</td>\n",
              "      <td>Decline</td>\n",
              "      <td>1600.0</td>\n",
              "      <td>120.0</td>\n",
              "      <td>9.0</td>\n",
              "      <td>Below</td>\n",
              "      <td>0.0</td>\n",
              "      <td>25.0</td>\n",
              "      <td>3.8</td>\n",
              "      <td>Bookrunner</td>\n",
              "      <td>Participant</td>\n",
              "    </tr>\n",
              "    <tr>\n",
              "      <th>1464</th>\n",
              "      <td>Bank of Pepperoni Pizza</td>\n",
              "      <td>Decline</td>\n",
              "      <td>900.0</td>\n",
              "      <td>100.0</td>\n",
              "      <td>2.0</td>\n",
              "      <td>Market</td>\n",
              "      <td>2.0</td>\n",
              "      <td>102.0</td>\n",
              "      <td>15.6</td>\n",
              "      <td>Bookrunner</td>\n",
              "      <td>Participant</td>\n",
              "    </tr>\n",
              "    <tr>\n",
              "      <th>1089</th>\n",
              "      <td>Bank of Pepperoni Pizza</td>\n",
              "      <td>Commit</td>\n",
              "      <td>1100.0</td>\n",
              "      <td>160.0</td>\n",
              "      <td>5.0</td>\n",
              "      <td>Market</td>\n",
              "      <td>1.0</td>\n",
              "      <td>150.0</td>\n",
              "      <td>12.8</td>\n",
              "      <td>Participant</td>\n",
              "      <td>Bookrunner</td>\n",
              "    </tr>\n",
              "  </tbody>\n",
              "</table>\n",
              "</div>"
            ],
            "text/plain": [
              "                       lender   commit  deal_size  invite  rating int_rate  \\\n",
              "2607      Ipanema Investments  Decline      700.0   100.0     2.0    Below   \n",
              "3361  Damiba Investment Group   Commit     1600.0   220.0     2.0   Market   \n",
              "3302  Damiba Investment Group  Decline     1600.0   120.0     9.0    Below   \n",
              "1464  Bank of Pepperoni Pizza  Decline      900.0   100.0     2.0   Market   \n",
              "1089  Bank of Pepperoni Pizza   Commit     1100.0   160.0     5.0   Market   \n",
              "\n",
              "      covenants  total_fees  fee_share   prior_tier  invite_tier  \n",
              "2607        2.0        41.0        0.9   Bookrunner   Bookrunner  \n",
              "3361        2.0       149.0       33.5   Bookrunner   Bookrunner  \n",
              "3302        0.0        25.0        3.8   Bookrunner  Participant  \n",
              "1464        2.0       102.0       15.6   Bookrunner  Participant  \n",
              "1089        1.0       150.0       12.8  Participant   Bookrunner  "
            ]
          },
          "metadata": {
            "tags": []
          },
          "execution_count": 168
        }
      ]
    },
    {
      "metadata": {
        "id": "OoSaMsSrhPXI",
        "colab_type": "code",
        "outputId": "c058c306-42a0-4e09-8b5a-61ffe2051631",
        "colab": {
          "base_uri": "https://localhost:8080/",
          "height": 374
        }
      },
      "cell_type": "code",
      "source": [
        "df = pd.read_excel('https://github.com/pierretd/investor-classifier/blob/master/Part%202/investor_data.xlsx?raw=true', sheet_name='investor_data')\n",
        "df.sample(5)"
      ],
      "execution_count": 0,
      "outputs": [
        {
          "output_type": "execute_result",
          "data": {
            "text/html": [
              "<div>\n",
              "<style scoped>\n",
              "    .dataframe tbody tr th:only-of-type {\n",
              "        vertical-align: middle;\n",
              "    }\n",
              "\n",
              "    .dataframe tbody tr th {\n",
              "        vertical-align: top;\n",
              "    }\n",
              "\n",
              "    .dataframe thead th {\n",
              "        text-align: right;\n",
              "    }\n",
              "</style>\n",
              "<table border=\"1\" class=\"dataframe\">\n",
              "  <thead>\n",
              "    <tr style=\"text-align: right;\">\n",
              "      <th></th>\n",
              "      <th>lender</th>\n",
              "      <th>commit</th>\n",
              "      <th>deal_size</th>\n",
              "      <th>invite</th>\n",
              "      <th>rating</th>\n",
              "      <th>int_rate</th>\n",
              "      <th>covenants</th>\n",
              "      <th>total_fees</th>\n",
              "      <th>fee_share</th>\n",
              "      <th>prior_tier</th>\n",
              "      <th>invite_tier</th>\n",
              "    </tr>\n",
              "  </thead>\n",
              "  <tbody>\n",
              "    <tr>\n",
              "      <th>6497</th>\n",
              "      <td>Bank of Beef and Broccoli</td>\n",
              "      <td>Commit</td>\n",
              "      <td>1300.0</td>\n",
              "      <td>240.0</td>\n",
              "      <td>10.0</td>\n",
              "      <td>Market</td>\n",
              "      <td>0.0</td>\n",
              "      <td>112.0</td>\n",
              "      <td>41.6</td>\n",
              "      <td>Bookrunner</td>\n",
              "      <td>Bookrunner</td>\n",
              "    </tr>\n",
              "    <tr>\n",
              "      <th>6375</th>\n",
              "      <td>Bank of Beef and Broccoli</td>\n",
              "      <td>Commit</td>\n",
              "      <td>500.0</td>\n",
              "      <td>100.0</td>\n",
              "      <td>2.0</td>\n",
              "      <td>Below</td>\n",
              "      <td>2.0</td>\n",
              "      <td>71.0</td>\n",
              "      <td>16.0</td>\n",
              "      <td>Bookrunner</td>\n",
              "      <td>Bookrunner</td>\n",
              "    </tr>\n",
              "    <tr>\n",
              "      <th>602</th>\n",
              "      <td>Bank of Pepperoni Pizza</td>\n",
              "      <td>Commit</td>\n",
              "      <td>1500.0</td>\n",
              "      <td>180.0</td>\n",
              "      <td>7.0</td>\n",
              "      <td>Market</td>\n",
              "      <td>0.0</td>\n",
              "      <td>171.0</td>\n",
              "      <td>20.7</td>\n",
              "      <td>Bookrunner</td>\n",
              "      <td>Bookrunner</td>\n",
              "    </tr>\n",
              "    <tr>\n",
              "      <th>4496</th>\n",
              "      <td>Cold Cut Credit</td>\n",
              "      <td>Commit</td>\n",
              "      <td>400.0</td>\n",
              "      <td>70.0</td>\n",
              "      <td>1.0</td>\n",
              "      <td>Market</td>\n",
              "      <td>2.0</td>\n",
              "      <td>43.0</td>\n",
              "      <td>11.8</td>\n",
              "      <td>Bookrunner</td>\n",
              "      <td>Bookrunner</td>\n",
              "    </tr>\n",
              "    <tr>\n",
              "      <th>297</th>\n",
              "      <td>Bank of Pepperoni Pizza</td>\n",
              "      <td>Commit</td>\n",
              "      <td>1500.0</td>\n",
              "      <td>250.0</td>\n",
              "      <td>2.0</td>\n",
              "      <td>Below</td>\n",
              "      <td>1.0</td>\n",
              "      <td>61.0</td>\n",
              "      <td>9.8</td>\n",
              "      <td>Participant</td>\n",
              "      <td>Bookrunner</td>\n",
              "    </tr>\n",
              "  </tbody>\n",
              "</table>\n",
              "</div>"
            ],
            "text/plain": [
              "                         lender  commit  deal_size  invite  rating int_rate  \\\n",
              "6497  Bank of Beef and Broccoli  Commit     1300.0   240.0    10.0   Market   \n",
              "6375  Bank of Beef and Broccoli  Commit      500.0   100.0     2.0    Below   \n",
              "602     Bank of Pepperoni Pizza  Commit     1500.0   180.0     7.0   Market   \n",
              "4496            Cold Cut Credit  Commit      400.0    70.0     1.0   Market   \n",
              "297     Bank of Pepperoni Pizza  Commit     1500.0   250.0     2.0    Below   \n",
              "\n",
              "      covenants  total_fees  fee_share   prior_tier invite_tier  \n",
              "6497        0.0       112.0       41.6   Bookrunner  Bookrunner  \n",
              "6375        2.0        71.0       16.0   Bookrunner  Bookrunner  \n",
              "602         0.0       171.0       20.7   Bookrunner  Bookrunner  \n",
              "4496        2.0        43.0       11.8   Bookrunner  Bookrunner  \n",
              "297         1.0        61.0        9.8  Participant  Bookrunner  "
            ]
          },
          "metadata": {
            "tags": []
          },
          "execution_count": 169
        }
      ]
    },
    {
      "metadata": {
        "id": "7_nsA3fxsta2",
        "colab_type": "code",
        "colab": {}
      },
      "cell_type": "code",
      "source": [
        "rvlvr = df.copy(deep=True) #  Syndicated Revolver = rlvlr"
      ],
      "execution_count": 0,
      "outputs": []
    },
    {
      "metadata": {
        "id": "DdSg0RrMs9__",
        "colab_type": "code",
        "outputId": "09e8c54b-0fb2-4198-b168-4fa85bb7afa4",
        "colab": {
          "base_uri": "https://localhost:8080/",
          "height": 35
        }
      },
      "cell_type": "code",
      "source": [
        "print('Syndicated Revolver data set has {} features and {} degrees of freedom.'.format(df.shape[1], df.shape[0]))"
      ],
      "execution_count": 0,
      "outputs": [
        {
          "output_type": "stream",
          "text": [
            "Syndicated Revolver data set has 11 features and 7290 degrees of freedom.\n"
          ],
          "name": "stdout"
        }
      ]
    },
    {
      "metadata": {
        "id": "V3_P2hAltUar",
        "colab_type": "code",
        "outputId": "8a969a20-386a-4874-a32b-faa160a65545",
        "colab": {
          "base_uri": "https://localhost:8080/",
          "height": 308
        }
      },
      "cell_type": "code",
      "source": [
        "rvlvr.info()"
      ],
      "execution_count": 0,
      "outputs": [
        {
          "output_type": "stream",
          "text": [
            "<class 'pandas.core.frame.DataFrame'>\n",
            "RangeIndex: 7290 entries, 0 to 7289\n",
            "Data columns (total 11 columns):\n",
            "lender         7290 non-null object\n",
            "commit         7289 non-null object\n",
            "deal_size      7289 non-null float64\n",
            "invite         7289 non-null float64\n",
            "rating         7289 non-null float64\n",
            "int_rate       7289 non-null object\n",
            "covenants      7289 non-null float64\n",
            "total_fees     7289 non-null float64\n",
            "fee_share      7289 non-null float64\n",
            "prior_tier     7289 non-null object\n",
            "invite_tier    7289 non-null object\n",
            "dtypes: float64(6), object(5)\n",
            "memory usage: 626.6+ KB\n"
          ],
          "name": "stdout"
        }
      ]
    },
    {
      "metadata": {
        "id": "Kg0UjT1AtrBw",
        "colab_type": "code",
        "outputId": "a2c6af4d-8f5d-40d3-fe89-400078e48937",
        "colab": {
          "base_uri": "https://localhost:8080/",
          "height": 145
        }
      },
      "cell_type": "code",
      "source": [
        "rvlvr.select_dtypes(float).nunique()"
      ],
      "execution_count": 0,
      "outputs": [
        {
          "output_type": "execute_result",
          "data": {
            "text/plain": [
              "deal_size      25\n",
              "invite         54\n",
              "rating         10\n",
              "covenants       4\n",
              "total_fees    312\n",
              "fee_share     724\n",
              "dtype: int64"
            ]
          },
          "metadata": {
            "tags": []
          },
          "execution_count": 142
        }
      ]
    },
    {
      "metadata": {
        "id": "xaPDUfVKuIzz",
        "colab_type": "code",
        "outputId": "e73f960f-c3f5-4237-b341-db6a1bdebc5a",
        "colab": {
          "base_uri": "https://localhost:8080/",
          "height": 288
        }
      },
      "cell_type": "code",
      "source": [
        "df.describe()"
      ],
      "execution_count": 0,
      "outputs": [
        {
          "output_type": "execute_result",
          "data": {
            "text/html": [
              "<div>\n",
              "<style scoped>\n",
              "    .dataframe tbody tr th:only-of-type {\n",
              "        vertical-align: middle;\n",
              "    }\n",
              "\n",
              "    .dataframe tbody tr th {\n",
              "        vertical-align: top;\n",
              "    }\n",
              "\n",
              "    .dataframe thead th {\n",
              "        text-align: right;\n",
              "    }\n",
              "</style>\n",
              "<table border=\"1\" class=\"dataframe\">\n",
              "  <thead>\n",
              "    <tr style=\"text-align: right;\">\n",
              "      <th></th>\n",
              "      <th>deal_size</th>\n",
              "      <th>invite</th>\n",
              "      <th>rating</th>\n",
              "      <th>covenants</th>\n",
              "      <th>total_fees</th>\n",
              "      <th>fee_share</th>\n",
              "    </tr>\n",
              "  </thead>\n",
              "  <tbody>\n",
              "    <tr>\n",
              "      <th>count</th>\n",
              "      <td>7289.000000</td>\n",
              "      <td>7289.000000</td>\n",
              "      <td>7289.000000</td>\n",
              "      <td>7289.000000</td>\n",
              "      <td>7289.000000</td>\n",
              "      <td>7289.000000</td>\n",
              "    </tr>\n",
              "    <tr>\n",
              "      <th>mean</th>\n",
              "      <td>1039.237207</td>\n",
              "      <td>156.811634</td>\n",
              "      <td>4.043353</td>\n",
              "      <td>1.353409</td>\n",
              "      <td>108.086706</td>\n",
              "      <td>16.426657</td>\n",
              "    </tr>\n",
              "    <tr>\n",
              "      <th>std</th>\n",
              "      <td>449.056542</td>\n",
              "      <td>81.632713</td>\n",
              "      <td>2.621480</td>\n",
              "      <td>0.872310</td>\n",
              "      <td>71.442019</td>\n",
              "      <td>16.375238</td>\n",
              "    </tr>\n",
              "    <tr>\n",
              "      <th>min</th>\n",
              "      <td>200.000000</td>\n",
              "      <td>0.000000</td>\n",
              "      <td>1.000000</td>\n",
              "      <td>0.000000</td>\n",
              "      <td>-62.000000</td>\n",
              "      <td>-25.700000</td>\n",
              "    </tr>\n",
              "    <tr>\n",
              "      <th>25%</th>\n",
              "      <td>700.000000</td>\n",
              "      <td>100.000000</td>\n",
              "      <td>2.000000</td>\n",
              "      <td>1.000000</td>\n",
              "      <td>57.000000</td>\n",
              "      <td>5.100000</td>\n",
              "    </tr>\n",
              "    <tr>\n",
              "      <th>50%</th>\n",
              "      <td>1000.000000</td>\n",
              "      <td>150.000000</td>\n",
              "      <td>3.000000</td>\n",
              "      <td>2.000000</td>\n",
              "      <td>95.000000</td>\n",
              "      <td>11.700000</td>\n",
              "    </tr>\n",
              "    <tr>\n",
              "      <th>75%</th>\n",
              "      <td>1300.000000</td>\n",
              "      <td>210.000000</td>\n",
              "      <td>6.000000</td>\n",
              "      <td>2.000000</td>\n",
              "      <td>144.000000</td>\n",
              "      <td>22.700000</td>\n",
              "    </tr>\n",
              "    <tr>\n",
              "      <th>max</th>\n",
              "      <td>2600.000000</td>\n",
              "      <td>530.000000</td>\n",
              "      <td>10.000000</td>\n",
              "      <td>3.000000</td>\n",
              "      <td>711.000000</td>\n",
              "      <td>230.400000</td>\n",
              "    </tr>\n",
              "  </tbody>\n",
              "</table>\n",
              "</div>"
            ],
            "text/plain": [
              "         deal_size       invite       rating    covenants   total_fees  \\\n",
              "count  7289.000000  7289.000000  7289.000000  7289.000000  7289.000000   \n",
              "mean   1039.237207   156.811634     4.043353     1.353409   108.086706   \n",
              "std     449.056542    81.632713     2.621480     0.872310    71.442019   \n",
              "min     200.000000     0.000000     1.000000     0.000000   -62.000000   \n",
              "25%     700.000000   100.000000     2.000000     1.000000    57.000000   \n",
              "50%    1000.000000   150.000000     3.000000     2.000000    95.000000   \n",
              "75%    1300.000000   210.000000     6.000000     2.000000   144.000000   \n",
              "max    2600.000000   530.000000    10.000000     3.000000   711.000000   \n",
              "\n",
              "         fee_share  \n",
              "count  7289.000000  \n",
              "mean     16.426657  \n",
              "std      16.375238  \n",
              "min     -25.700000  \n",
              "25%       5.100000  \n",
              "50%      11.700000  \n",
              "75%      22.700000  \n",
              "max     230.400000  "
            ]
          },
          "metadata": {
            "tags": []
          },
          "execution_count": 143
        }
      ]
    },
    {
      "metadata": {
        "id": "SLLei2Iit_XY",
        "colab_type": "code",
        "outputId": "213de988-7624-428b-a98b-84f81269ca43",
        "colab": {
          "base_uri": "https://localhost:8080/",
          "height": 126
        }
      },
      "cell_type": "code",
      "source": [
        "rvlvr.select_dtypes(object).nunique()"
      ],
      "execution_count": 0,
      "outputs": [
        {
          "output_type": "execute_result",
          "data": {
            "text/plain": [
              "lender         6\n",
              "commit         2\n",
              "int_rate       3\n",
              "prior_tier     2\n",
              "invite_tier    2\n",
              "dtype: int64"
            ]
          },
          "metadata": {
            "tags": []
          },
          "execution_count": 144
        }
      ]
    },
    {
      "metadata": {
        "id": "-puGJIBcudUs",
        "colab_type": "code",
        "outputId": "00de06cc-94be-4c5a-d731-cb99497f5f36",
        "colab": {
          "base_uri": "https://localhost:8080/",
          "height": 72
        }
      },
      "cell_type": "code",
      "source": [
        "rvlvr.lender.unique()"
      ],
      "execution_count": 0,
      "outputs": [
        {
          "output_type": "execute_result",
          "data": {
            "text/plain": [
              "array(['Bank of Pepperoni Pizza', 'Ipanema Investments',\n",
              "       'Damiba Investment Group', 'investor', 'Cold Cut Credit',\n",
              "       'Bank of Beef and Broccoli'], dtype=object)"
            ]
          },
          "metadata": {
            "tags": []
          },
          "execution_count": 145
        }
      ]
    },
    {
      "metadata": {
        "id": "QzvQpzKyu_Xl",
        "colab_type": "code",
        "outputId": "eafafaa4-0bcf-4cd4-ce4f-51a5084ad838",
        "colab": {
          "base_uri": "https://localhost:8080/",
          "height": 35
        }
      },
      "cell_type": "code",
      "source": [
        "rvlvr.commit.unique()"
      ],
      "execution_count": 0,
      "outputs": [
        {
          "output_type": "execute_result",
          "data": {
            "text/plain": [
              "array(['Commit', 'Decline', nan], dtype=object)"
            ]
          },
          "metadata": {
            "tags": []
          },
          "execution_count": 146
        }
      ]
    },
    {
      "metadata": {
        "id": "8tbaLOqTvYLs",
        "colab_type": "code",
        "colab": {}
      },
      "cell_type": "code",
      "source": [
        "mapping = {'Commit':1, 'Decline':0}\n",
        "rvlvr['commit'] = rvlvr['commit'].replace(mapping).astype(np.float64)\n"
      ],
      "execution_count": 0,
      "outputs": []
    },
    {
      "metadata": {
        "id": "WJpVelnhu6zc",
        "colab_type": "code",
        "outputId": "5859aab6-0993-447c-cd5f-124e3b090147",
        "colab": {
          "base_uri": "https://localhost:8080/",
          "height": 35
        }
      },
      "cell_type": "code",
      "source": [
        "rvlvr.commit.unique()"
      ],
      "execution_count": 0,
      "outputs": [
        {
          "output_type": "execute_result",
          "data": {
            "text/plain": [
              "array([ 1.,  0., nan])"
            ]
          },
          "metadata": {
            "tags": []
          },
          "execution_count": 148
        }
      ]
    },
    {
      "metadata": {
        "id": "TPP3sgvgvC7T",
        "colab_type": "code",
        "outputId": "efc735d9-c372-4cd0-8047-deb2f50b5b54",
        "colab": {
          "base_uri": "https://localhost:8080/",
          "height": 35
        }
      },
      "cell_type": "code",
      "source": [
        "rvlvr.prior_tier.unique()"
      ],
      "execution_count": 0,
      "outputs": [
        {
          "output_type": "execute_result",
          "data": {
            "text/plain": [
              "array(['Bookrunner', 'Participant', nan], dtype=object)"
            ]
          },
          "metadata": {
            "tags": []
          },
          "execution_count": 149
        }
      ]
    },
    {
      "metadata": {
        "id": "TaO5hPRTvGHi",
        "colab_type": "code",
        "outputId": "28792c15-1f13-4a4e-8c7a-b5cf7fe5838b",
        "colab": {
          "base_uri": "https://localhost:8080/",
          "height": 35
        }
      },
      "cell_type": "code",
      "source": [
        "df.invite_tier.unique() "
      ],
      "execution_count": 0,
      "outputs": [
        {
          "output_type": "execute_result",
          "data": {
            "text/plain": [
              "array(['Bookrunner', 'Participant', nan], dtype=object)"
            ]
          },
          "metadata": {
            "tags": []
          },
          "execution_count": 150
        }
      ]
    },
    {
      "metadata": {
        "colab_type": "code",
        "id": "v9-QNwRbwQ0d",
        "colab": {}
      },
      "cell_type": "code",
      "source": [
        "mapping2 = {'Bookrunner':1, 'Participant':0}\n",
        "rvlvr['prior_tier'] = rvlvr['prior_tier'].replace(mapping2).astype(np.float64)\n",
        "rvlvr['invite_tier'] = rvlvr['invite_tier'].replace(mapping2).astype(np.float64)"
      ],
      "execution_count": 0,
      "outputs": []
    },
    {
      "metadata": {
        "colab_type": "code",
        "outputId": "160a8b71-6add-4276-aa7d-98f268a3914b",
        "id": "yaDrT6xAwxZj",
        "colab": {
          "base_uri": "https://localhost:8080/",
          "height": 35
        }
      },
      "cell_type": "code",
      "source": [
        "rvlvr.prior_tier.unique()"
      ],
      "execution_count": 0,
      "outputs": [
        {
          "output_type": "execute_result",
          "data": {
            "text/plain": [
              "array([ 1.,  0., nan])"
            ]
          },
          "metadata": {
            "tags": []
          },
          "execution_count": 152
        }
      ]
    },
    {
      "metadata": {
        "colab_type": "code",
        "outputId": "8d7eed00-f093-4d4e-fb53-19ef70be4ba0",
        "id": "nJ0Og6R6wxZl",
        "colab": {
          "base_uri": "https://localhost:8080/",
          "height": 35
        }
      },
      "cell_type": "code",
      "source": [
        "rvlvr.invite_tier.unique() "
      ],
      "execution_count": 0,
      "outputs": [
        {
          "output_type": "execute_result",
          "data": {
            "text/plain": [
              "array([ 1.,  0., nan])"
            ]
          },
          "metadata": {
            "tags": []
          },
          "execution_count": 153
        }
      ]
    },
    {
      "metadata": {
        "id": "HxS7tdmcxBqu",
        "colab_type": "code",
        "outputId": "93a85b91-3fc4-45d8-f23d-346a06fabff2",
        "colab": {
          "base_uri": "https://localhost:8080/",
          "height": 35
        }
      },
      "cell_type": "code",
      "source": [
        "rvlvr.int_rate.unique() "
      ],
      "execution_count": 0,
      "outputs": [
        {
          "output_type": "execute_result",
          "data": {
            "text/plain": [
              "array(['Market', 'Below', 'Above', nan], dtype=object)"
            ]
          },
          "metadata": {
            "tags": []
          },
          "execution_count": 120
        }
      ]
    },
    {
      "metadata": {
        "id": "m-y0lGB_TJqQ",
        "colab_type": "code",
        "colab": {}
      },
      "cell_type": "code",
      "source": [
        "mapping3 = {'Above':2, 'Below':0, 'Market': 1}\n",
        "rvlvr['int_rate'] = rvlvr['int_rate'].replace(mapping3).astype(np.float64)"
      ],
      "execution_count": 0,
      "outputs": []
    },
    {
      "metadata": {
        "id": "77ek0UgH2xjB",
        "colab_type": "code",
        "outputId": "e7b00c3f-0dea-4ec5-dde4-1bc646a71647",
        "colab": {
          "base_uri": "https://localhost:8080/",
          "height": 35
        }
      },
      "cell_type": "code",
      "source": [
        "rvlvr.int_rate.unique() "
      ],
      "execution_count": 0,
      "outputs": [
        {
          "output_type": "execute_result",
          "data": {
            "text/plain": [
              "array([ 1.,  0.,  2., nan])"
            ]
          },
          "metadata": {
            "tags": []
          },
          "execution_count": 155
        }
      ]
    },
    {
      "metadata": {
        "trusted": true,
        "_uuid": "a2a2a5ae0cd320e261942a76cc14b778271ba30a",
        "id": "B-dDT7m5Ve5l",
        "colab_type": "code",
        "outputId": "6b4f9e97-c8f7-4f38-aeb3-ed49edae755b",
        "colab": {
          "base_uri": "https://localhost:8080/",
          "height": 391
        }
      },
      "cell_type": "code",
      "source": [
        "\n",
        "rvlvr.head()\n"
      ],
      "execution_count": 0,
      "outputs": [
        {
          "output_type": "execute_result",
          "data": {
            "text/html": [
              "<div>\n",
              "<style scoped>\n",
              "    .dataframe tbody tr th:only-of-type {\n",
              "        vertical-align: middle;\n",
              "    }\n",
              "\n",
              "    .dataframe tbody tr th {\n",
              "        vertical-align: top;\n",
              "    }\n",
              "\n",
              "    .dataframe thead th {\n",
              "        text-align: right;\n",
              "    }\n",
              "</style>\n",
              "<table border=\"1\" class=\"dataframe\">\n",
              "  <thead>\n",
              "    <tr style=\"text-align: right;\">\n",
              "      <th></th>\n",
              "      <th>lender</th>\n",
              "      <th>commit</th>\n",
              "      <th>deal_size</th>\n",
              "      <th>invite</th>\n",
              "      <th>rating</th>\n",
              "      <th>int_rate</th>\n",
              "      <th>covenants</th>\n",
              "      <th>total_fees</th>\n",
              "      <th>fee_share</th>\n",
              "      <th>prior_tier</th>\n",
              "      <th>invite_tier</th>\n",
              "    </tr>\n",
              "  </thead>\n",
              "  <tbody>\n",
              "    <tr>\n",
              "      <th>0</th>\n",
              "      <td>Bank of Pepperoni Pizza</td>\n",
              "      <td>1.0</td>\n",
              "      <td>900.0</td>\n",
              "      <td>130.0</td>\n",
              "      <td>3.0</td>\n",
              "      <td>1.0</td>\n",
              "      <td>2.0</td>\n",
              "      <td>98.0</td>\n",
              "      <td>24.4</td>\n",
              "      <td>1.0</td>\n",
              "      <td>1.0</td>\n",
              "    </tr>\n",
              "    <tr>\n",
              "      <th>1</th>\n",
              "      <td>Bank of Pepperoni Pizza</td>\n",
              "      <td>1.0</td>\n",
              "      <td>600.0</td>\n",
              "      <td>90.0</td>\n",
              "      <td>2.0</td>\n",
              "      <td>0.0</td>\n",
              "      <td>1.0</td>\n",
              "      <td>25.0</td>\n",
              "      <td>3.6</td>\n",
              "      <td>1.0</td>\n",
              "      <td>1.0</td>\n",
              "    </tr>\n",
              "    <tr>\n",
              "      <th>2</th>\n",
              "      <td>Bank of Pepperoni Pizza</td>\n",
              "      <td>1.0</td>\n",
              "      <td>1200.0</td>\n",
              "      <td>240.0</td>\n",
              "      <td>1.0</td>\n",
              "      <td>0.0</td>\n",
              "      <td>2.0</td>\n",
              "      <td>79.0</td>\n",
              "      <td>26.5</td>\n",
              "      <td>1.0</td>\n",
              "      <td>1.0</td>\n",
              "    </tr>\n",
              "    <tr>\n",
              "      <th>3</th>\n",
              "      <td>Bank of Pepperoni Pizza</td>\n",
              "      <td>1.0</td>\n",
              "      <td>1800.0</td>\n",
              "      <td>470.0</td>\n",
              "      <td>3.0</td>\n",
              "      <td>0.0</td>\n",
              "      <td>3.0</td>\n",
              "      <td>711.0</td>\n",
              "      <td>230.4</td>\n",
              "      <td>1.0</td>\n",
              "      <td>1.0</td>\n",
              "    </tr>\n",
              "    <tr>\n",
              "      <th>4</th>\n",
              "      <td>Bank of Pepperoni Pizza</td>\n",
              "      <td>1.0</td>\n",
              "      <td>400.0</td>\n",
              "      <td>80.0</td>\n",
              "      <td>3.0</td>\n",
              "      <td>1.0</td>\n",
              "      <td>2.0</td>\n",
              "      <td>50.0</td>\n",
              "      <td>11.0</td>\n",
              "      <td>1.0</td>\n",
              "      <td>1.0</td>\n",
              "    </tr>\n",
              "  </tbody>\n",
              "</table>\n",
              "</div>"
            ],
            "text/plain": [
              "                    lender  commit  deal_size  invite  rating  int_rate  \\\n",
              "0  Bank of Pepperoni Pizza     1.0      900.0   130.0     3.0       1.0   \n",
              "1  Bank of Pepperoni Pizza     1.0      600.0    90.0     2.0       0.0   \n",
              "2  Bank of Pepperoni Pizza     1.0     1200.0   240.0     1.0       0.0   \n",
              "3  Bank of Pepperoni Pizza     1.0     1800.0   470.0     3.0       0.0   \n",
              "4  Bank of Pepperoni Pizza     1.0      400.0    80.0     3.0       1.0   \n",
              "\n",
              "   covenants  total_fees  fee_share  prior_tier  invite_tier  \n",
              "0        2.0        98.0       24.4         1.0          1.0  \n",
              "1        1.0        25.0        3.6         1.0          1.0  \n",
              "2        2.0        79.0       26.5         1.0          1.0  \n",
              "3        3.0       711.0      230.4         1.0          1.0  \n",
              "4        2.0        50.0       11.0         1.0          1.0  "
            ]
          },
          "metadata": {
            "tags": []
          },
          "execution_count": 156
        }
      ]
    },
    {
      "metadata": {
        "id": "EEY91MTv4DEc",
        "colab_type": "code",
        "outputId": "1bbf7ab9-6ff7-4fb5-9a35-754b9f47f91b",
        "colab": {
          "base_uri": "https://localhost:8080/",
          "height": 35
        }
      },
      "cell_type": "code",
      "source": [
        "rvlvr.shape"
      ],
      "execution_count": 0,
      "outputs": [
        {
          "output_type": "execute_result",
          "data": {
            "text/plain": [
              "(7289, 11)"
            ]
          },
          "metadata": {
            "tags": []
          },
          "execution_count": 165
        }
      ]
    },
    {
      "metadata": {
        "id": "DXtVMEi9yQz8",
        "colab_type": "code",
        "outputId": "0cbae339-6936-4615-ea89-af91fe0bf1a7",
        "colab": {
          "base_uri": "https://localhost:8080/",
          "height": 368
        }
      },
      "cell_type": "code",
      "source": [
        "rvlvr.corr()"
      ],
      "execution_count": 0,
      "outputs": [
        {
          "output_type": "execute_result",
          "data": {
            "text/html": [
              "<div>\n",
              "<style scoped>\n",
              "    .dataframe tbody tr th:only-of-type {\n",
              "        vertical-align: middle;\n",
              "    }\n",
              "\n",
              "    .dataframe tbody tr th {\n",
              "        vertical-align: top;\n",
              "    }\n",
              "\n",
              "    .dataframe thead th {\n",
              "        text-align: right;\n",
              "    }\n",
              "</style>\n",
              "<table border=\"1\" class=\"dataframe\">\n",
              "  <thead>\n",
              "    <tr style=\"text-align: right;\">\n",
              "      <th></th>\n",
              "      <th>commit</th>\n",
              "      <th>deal_size</th>\n",
              "      <th>invite</th>\n",
              "      <th>rating</th>\n",
              "      <th>int_rate</th>\n",
              "      <th>covenants</th>\n",
              "      <th>total_fees</th>\n",
              "      <th>fee_share</th>\n",
              "      <th>prior_tier</th>\n",
              "      <th>invite_tier</th>\n",
              "    </tr>\n",
              "  </thead>\n",
              "  <tbody>\n",
              "    <tr>\n",
              "      <th>commit</th>\n",
              "      <td>1.000000</td>\n",
              "      <td>0.129916</td>\n",
              "      <td>0.332658</td>\n",
              "      <td>0.062359</td>\n",
              "      <td>0.081290</td>\n",
              "      <td>-0.018408</td>\n",
              "      <td>0.198940</td>\n",
              "      <td>0.233065</td>\n",
              "      <td>-0.184793</td>\n",
              "      <td>0.601506</td>\n",
              "    </tr>\n",
              "    <tr>\n",
              "      <th>deal_size</th>\n",
              "      <td>0.129916</td>\n",
              "      <td>1.000000</td>\n",
              "      <td>0.827683</td>\n",
              "      <td>0.498521</td>\n",
              "      <td>-0.000204</td>\n",
              "      <td>-0.452838</td>\n",
              "      <td>0.653168</td>\n",
              "      <td>0.428770</td>\n",
              "      <td>-0.001310</td>\n",
              "      <td>-0.012725</td>\n",
              "    </tr>\n",
              "    <tr>\n",
              "      <th>invite</th>\n",
              "      <td>0.332658</td>\n",
              "      <td>0.827683</td>\n",
              "      <td>1.000000</td>\n",
              "      <td>0.403975</td>\n",
              "      <td>0.001161</td>\n",
              "      <td>-0.372673</td>\n",
              "      <td>0.545094</td>\n",
              "      <td>0.470552</td>\n",
              "      <td>0.003078</td>\n",
              "      <td>0.356535</td>\n",
              "    </tr>\n",
              "    <tr>\n",
              "      <th>rating</th>\n",
              "      <td>0.062359</td>\n",
              "      <td>0.498521</td>\n",
              "      <td>0.403975</td>\n",
              "      <td>1.000000</td>\n",
              "      <td>0.019344</td>\n",
              "      <td>-0.814344</td>\n",
              "      <td>0.360836</td>\n",
              "      <td>0.243692</td>\n",
              "      <td>0.010389</td>\n",
              "      <td>-0.012817</td>\n",
              "    </tr>\n",
              "    <tr>\n",
              "      <th>int_rate</th>\n",
              "      <td>0.081290</td>\n",
              "      <td>-0.000204</td>\n",
              "      <td>0.001161</td>\n",
              "      <td>0.019344</td>\n",
              "      <td>1.000000</td>\n",
              "      <td>-0.011436</td>\n",
              "      <td>0.016552</td>\n",
              "      <td>0.021550</td>\n",
              "      <td>0.017645</td>\n",
              "      <td>-0.002945</td>\n",
              "    </tr>\n",
              "    <tr>\n",
              "      <th>covenants</th>\n",
              "      <td>-0.018408</td>\n",
              "      <td>-0.452838</td>\n",
              "      <td>-0.372673</td>\n",
              "      <td>-0.814344</td>\n",
              "      <td>-0.011436</td>\n",
              "      <td>1.000000</td>\n",
              "      <td>-0.102085</td>\n",
              "      <td>-0.072474</td>\n",
              "      <td>-0.006274</td>\n",
              "      <td>-0.000899</td>\n",
              "    </tr>\n",
              "    <tr>\n",
              "      <th>total_fees</th>\n",
              "      <td>0.198940</td>\n",
              "      <td>0.653168</td>\n",
              "      <td>0.545094</td>\n",
              "      <td>0.360836</td>\n",
              "      <td>0.016552</td>\n",
              "      <td>-0.102085</td>\n",
              "      <td>1.000000</td>\n",
              "      <td>0.653959</td>\n",
              "      <td>-0.004330</td>\n",
              "      <td>-0.000786</td>\n",
              "    </tr>\n",
              "    <tr>\n",
              "      <th>fee_share</th>\n",
              "      <td>0.233065</td>\n",
              "      <td>0.428770</td>\n",
              "      <td>0.470552</td>\n",
              "      <td>0.243692</td>\n",
              "      <td>0.021550</td>\n",
              "      <td>-0.072474</td>\n",
              "      <td>0.653959</td>\n",
              "      <td>1.000000</td>\n",
              "      <td>0.117897</td>\n",
              "      <td>0.056695</td>\n",
              "    </tr>\n",
              "    <tr>\n",
              "      <th>prior_tier</th>\n",
              "      <td>-0.184793</td>\n",
              "      <td>-0.001310</td>\n",
              "      <td>0.003078</td>\n",
              "      <td>0.010389</td>\n",
              "      <td>0.017645</td>\n",
              "      <td>-0.006274</td>\n",
              "      <td>-0.004330</td>\n",
              "      <td>0.117897</td>\n",
              "      <td>1.000000</td>\n",
              "      <td>0.002252</td>\n",
              "    </tr>\n",
              "    <tr>\n",
              "      <th>invite_tier</th>\n",
              "      <td>0.601506</td>\n",
              "      <td>-0.012725</td>\n",
              "      <td>0.356535</td>\n",
              "      <td>-0.012817</td>\n",
              "      <td>-0.002945</td>\n",
              "      <td>-0.000899</td>\n",
              "      <td>-0.000786</td>\n",
              "      <td>0.056695</td>\n",
              "      <td>0.002252</td>\n",
              "      <td>1.000000</td>\n",
              "    </tr>\n",
              "  </tbody>\n",
              "</table>\n",
              "</div>"
            ],
            "text/plain": [
              "               commit  deal_size    invite    rating  int_rate  covenants  \\\n",
              "commit       1.000000   0.129916  0.332658  0.062359  0.081290  -0.018408   \n",
              "deal_size    0.129916   1.000000  0.827683  0.498521 -0.000204  -0.452838   \n",
              "invite       0.332658   0.827683  1.000000  0.403975  0.001161  -0.372673   \n",
              "rating       0.062359   0.498521  0.403975  1.000000  0.019344  -0.814344   \n",
              "int_rate     0.081290  -0.000204  0.001161  0.019344  1.000000  -0.011436   \n",
              "covenants   -0.018408  -0.452838 -0.372673 -0.814344 -0.011436   1.000000   \n",
              "total_fees   0.198940   0.653168  0.545094  0.360836  0.016552  -0.102085   \n",
              "fee_share    0.233065   0.428770  0.470552  0.243692  0.021550  -0.072474   \n",
              "prior_tier  -0.184793  -0.001310  0.003078  0.010389  0.017645  -0.006274   \n",
              "invite_tier  0.601506  -0.012725  0.356535 -0.012817 -0.002945  -0.000899   \n",
              "\n",
              "             total_fees  fee_share  prior_tier  invite_tier  \n",
              "commit         0.198940   0.233065   -0.184793     0.601506  \n",
              "deal_size      0.653168   0.428770   -0.001310    -0.012725  \n",
              "invite         0.545094   0.470552    0.003078     0.356535  \n",
              "rating         0.360836   0.243692    0.010389    -0.012817  \n",
              "int_rate       0.016552   0.021550    0.017645    -0.002945  \n",
              "covenants     -0.102085  -0.072474   -0.006274    -0.000899  \n",
              "total_fees     1.000000   0.653959   -0.004330    -0.000786  \n",
              "fee_share      0.653959   1.000000    0.117897     0.056695  \n",
              "prior_tier    -0.004330   0.117897    1.000000     0.002252  \n",
              "invite_tier   -0.000786   0.056695    0.002252     1.000000  "
            ]
          },
          "metadata": {
            "tags": []
          },
          "execution_count": 157
        }
      ]
    },
    {
      "metadata": {
        "id": "yzlqhwtztTi7",
        "colab_type": "code",
        "outputId": "2dc7e787-2430-475d-f2e8-0e5786bd7d46",
        "colab": {
          "base_uri": "https://localhost:8080/",
          "height": 820
        }
      },
      "cell_type": "code",
      "source": [
        "def correlation_heat(rvlvr):\n",
        "    _ , ax = plt.subplots(figsize =(14, 12))\n",
        "    colormap = sns.diverging_palette(220, 10, as_cmap = True)\n",
        "    \n",
        "    _ = sns.heatmap(\n",
        "        df.corr(), \n",
        "        cmap = colormap,\n",
        "        square=True, \n",
        "        cbar_kws={'shrink':.9 }, \n",
        "        ax=ax,\n",
        "        annot=True, \n",
        "        linewidths=0.1,vmax=1.0, linecolor='white',\n",
        "        annot_kws={'fontsize':12 }\n",
        "    )\n",
        "    \n",
        "    plt.title('Pearson Correlation of Features', y=1.05, size=15)\n",
        "    \n",
        "correlation_heat(rvlvr[[\"commit\", \"deal_size\", \"invite\", \"rating\", \n",
        "                        \"int_rate\", \"covenants\" ,\"total_fees\", \"prior_tier\", \n",
        "                        \"invite_tier\"\n",
        "]])\n"
      ],
      "execution_count": 0,
      "outputs": [
        {
          "output_type": "display_data",
          "data": {
            "image/png": "[encoded data removed]",
            "text/plain": [
              "<matplotlib.figure.Figure at 0x7f2720437be0>"
            ]
          },
          "metadata": {
            "tags": []
          }
        }
      ]
    },
    {
      "metadata": {
        "id": "YEFouHBUZp3-",
        "colab_type": "code",
        "outputId": "84eaf2df-6d0f-4fe6-a0ba-50ac43967b49",
        "colab": {
          "base_uri": "https://localhost:8080/",
          "height": 653
        }
      },
      "cell_type": "code",
      "source": [
        "plt.style.use('fivethirtyeight')\n",
        "df.hist(figsize=(10,10));\n",
        "plt.show();"
      ],
      "execution_count": 0,
      "outputs": [
        {
          "output_type": "display_data",
          "data": {
            "image/png": "[encoded data removed]",
            "text/plain": [
              "<matplotlib.figure.Figure at 0x7f271cc7ce48>"
            ]
          },
          "metadata": {
            "tags": []
          }
        }
      ]
    },
    {
      "metadata": {
        "id": "8hOsk3VMZp4C",
        "colab_type": "code",
        "outputId": "d9ade758-9806-4c91-a684-f1de7af4ab97",
        "colab": {
          "base_uri": "https://localhost:8080/",
          "height": 535
        }
      },
      "cell_type": "code",
      "source": [
        "df = df[df.total_fees>0]\n",
        "df.hist(figsize=(8,8))\n",
        "plt.show();"
      ],
      "execution_count": 0,
      "outputs": [
        {
          "output_type": "display_data",
          "data": {
            "image/png": "[encoded data removed]",
            "text/plain": [
              "<matplotlib.figure.Figure at 0x7f271cd162e8>"
            ]
          },
          "metadata": {
            "tags": []
          }
        }
      ]
    },
    {
      "metadata": {
        "id": "FNRAqFajZp4G",
        "colab_type": "code",
        "outputId": "d6ac64a3-857c-4cb5-845c-2cd85aa456b7",
        "colab": {
          "base_uri": "https://localhost:8080/",
          "height": 445
        }
      },
      "cell_type": "code",
      "source": [
        "sns.countplot(y='commit', data=df)\n",
        "plt.show()"
      ],
      "execution_count": 0,
      "outputs": [
        {
          "output_type": "stream",
          "text": [
            "/usr/local/lib/python3.6/dist-packages/seaborn/categorical.py:1428: FutureWarning: remove_na is deprecated and is a private function. Do not use.\n",
            "  stat_data = remove_na(group_data)\n"
          ],
          "name": "stderr"
        },
        {
          "output_type": "display_data",
          "data": {
            "image/png": "[encoded data removed]",
            "text/plain": [
              "<matplotlib.figure.Figure at 0x7f271fe99438>"
            ]
          },
          "metadata": {
            "tags": []
          }
        }
      ]
    },
    {
      "metadata": {
        "id": "qu63PUSsZp4K",
        "colab_type": "code",
        "outputId": "9157920e-e946-4b33-e7d5-d1c2f6a59fda",
        "colab": {
          "base_uri": "https://localhost:8080/",
          "height": 369
        }
      },
      "cell_type": "code",
      "source": [
        "df.groupby('invite_tier').commit.value_counts().plot(kind='barh')\n",
        "plt.show()"
      ],
      "execution_count": 0,
      "outputs": [
        {
          "output_type": "display_data",
          "data": {
            "image/png": "[encoded data removed]",
            "text/plain": [
              "<matplotlib.figure.Figure at 0x7f271f93a6d8>"
            ]
          },
          "metadata": {
            "tags": []
          }
        }
      ]
    }
  ]
}